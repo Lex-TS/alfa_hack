{
  "nbformat": 4,
  "nbformat_minor": 0,
  "metadata": {
    "colab": {
      "provenance": []
    },
    "kernelspec": {
      "name": "python3",
      "display_name": "Python 3"
    },
    "language_info": {
      "name": "python"
    }
  },
  "cells": [
    {
      "cell_type": "markdown",
      "source": [
        "#Загрузка библиотек и данных"
      ],
      "metadata": {
        "id": "V2q-UutAiV1K"
      }
    },
    {
      "cell_type": "code",
      "execution_count": 1,
      "metadata": {
        "id": "UW7fvImD8UQ4"
      },
      "outputs": [],
      "source": [
        "import numpy as np\n",
        "import pandas as pd\n",
        "import matplotlib.pyplot as plt\n",
        "%matplotlib inline"
      ]
    },
    {
      "cell_type": "code",
      "source": [
        "rand_st = 12"
      ],
      "metadata": {
        "id": "IiSGvEtccKRT"
      },
      "execution_count": 2,
      "outputs": []
    },
    {
      "cell_type": "code",
      "source": [
        "# Загрузка данных из гугл диска\n",
        "# from google.colab import drive\n",
        "# drive.mount('/content/gdrive/')\n",
        "# data = pd.read_parquet('/content/gdrive/My Drive/Colab Notebooks/hackaton/dataset/train.parquet')"
      ],
      "metadata": {
        "id": "ghkABOy_baDE",
        "colab": {
          "base_uri": "https://localhost:8080/"
        },
        "outputId": "b5bafc97-16b1-4863-a2ca-a7ab50fc2d2e"
      },
      "execution_count": null,
      "outputs": [
        {
          "output_type": "stream",
          "name": "stdout",
          "text": [
            "Mounted at /content/gdrive/\n"
          ]
        }
      ]
    },
    {
      "cell_type": "code",
      "source": [
        "#Если загружать данные локально:\n",
        "data = pd.read_parquet('train.parquet')"
      ],
      "metadata": {
        "id": "uxPyhuIgpRxb"
      },
      "execution_count": 3,
      "outputs": []
    },
    {
      "cell_type": "markdown",
      "source": [
        "#Работа с данными"
      ],
      "metadata": {
        "id": "GYnsqgUul5Bx"
      }
    },
    {
      "cell_type": "markdown",
      "source": [
        "Изменение типов данных для категориальных признаков:"
      ],
      "metadata": {
        "id": "RDRWSwtAl7B_"
      }
    },
    {
      "cell_type": "code",
      "source": [
        "cat_cols = [\n",
        "    'channel_code', 'city', 'city_type',\n",
        "    'index_city_code', 'ogrn_month', 'ogrn_year',\n",
        "    'branch_code', 'okved', 'segment'\n",
        "]"
      ],
      "metadata": {
        "id": "CcEf6E9VyY-A"
      },
      "execution_count": 4,
      "outputs": []
    },
    {
      "cell_type": "code",
      "source": [
        "data[cat_cols] = data[cat_cols].astype(\"category\")"
      ],
      "metadata": {
        "id": "jM98DJEAyqnl"
      },
      "execution_count": 5,
      "outputs": []
    },
    {
      "cell_type": "markdown",
      "source": [
        "Массивы с признаками, которые будут позже удалены из обучающей выборки для улучшения результата ROC-AUC:"
      ],
      "metadata": {
        "id": "71Kvsg6HmKTo"
      }
    },
    {
      "cell_type": "code",
      "source": [
        "cols_for_del_t1 = ['channel_code', 'city', 'city_type', 'index_city_code',\n",
        "                'ogrn_month', 'ogrn_year', 'branch_code'\n",
        "                ]"
      ],
      "metadata": {
        "id": "KOl5Mm3jlaId"
      },
      "execution_count": 6,
      "outputs": []
    },
    {
      "cell_type": "code",
      "source": [
        "cols_for_del_t2 = ['channel_code', 'city', 'index_city_code',\n",
        "                'ogrn_month', 'ogrn_year', 'branch_code', 'ft_registration_date',\n",
        "                 'min_end_fact_fin_deals', 'min_end_plan_non_fin_deals',\n",
        "                'min_start_fin_deals', 'min_start_non_fin_deals', 'ogrn_days_end_month',\n",
        "                'balance_amt_min'\n",
        "]"
      ],
      "metadata": {
        "id": "hucPPC5fBV1s"
      },
      "execution_count": 7,
      "outputs": []
    },
    {
      "cell_type": "markdown",
      "source": [
        "#Графики"
      ],
      "metadata": {
        "id": "FZzZhzvaeX2N"
      }
    },
    {
      "cell_type": "markdown",
      "source": [
        "##--Корреляция"
      ],
      "metadata": {
        "id": "hijShjgWxM-U"
      }
    },
    {
      "cell_type": "code",
      "source": [
        "#получается слишком большая матрица корреляции, нужно сократить количество признаков\n",
        "#и только после этого строить матрицу\n",
        "\n",
        "# Построим матрицу корреляции между признаками\n",
        "correlation_matrix = data.corr()\n",
        "\n",
        "# Визуализируем матрицу корреляции с помощью тепловой карты\n",
        "plt.figure(figsize=(500, 100))\n",
        "sns.heatmap(correlation_matrix, annot=True, cmap='coolwarm', fmt='.2f', linewidths=10.5)\n",
        "plt.title('Матрица корреляции')\n",
        "plt.show()"
      ],
      "metadata": {
        "id": "CqaFQYSQxNCs"
      },
      "execution_count": null,
      "outputs": []
    },
    {
      "cell_type": "markdown",
      "source": [
        "Меньшая матрица корреляции с некоторыми признаками:"
      ],
      "metadata": {
        "id": "wdkfd8Tmmv1P"
      }
    },
    {
      "cell_type": "code",
      "source": [
        "data2= pd.DataFrame()"
      ],
      "metadata": {
        "id": "H85W394Ko_Qe"
      },
      "execution_count": null,
      "outputs": []
    },
    {
      "cell_type": "code",
      "source": [
        "data2['channel_code'] = data['channel_code']"
      ],
      "metadata": {
        "id": "wArqJ9r2pDFv"
      },
      "execution_count": null,
      "outputs": []
    },
    {
      "cell_type": "code",
      "source": [
        "data2['city'] = data['city']\n",
        "data2['city_type'] = data['city_type']\n",
        "data2['index_city_code'] = data['index_city_code']\n",
        "data2['ogrn_month'] = data['ogrn_month']\n",
        "data2['ogrn_year'] = data['ogrn_year']\n",
        "data2['branch_code'] = data['branch_code']\n",
        "data2['okved'] = data['okved']\n",
        "data2['segment'] = data['segment']\n",
        "data2['target_1'] = data['target_1']\n",
        "data2['target_2'] = data['target_2']\n",
        "data2['total_target'] = data['total_target']\n"
      ],
      "metadata": {
        "id": "QoIP0vPIpOVi"
      },
      "execution_count": null,
      "outputs": []
    },
    {
      "cell_type": "code",
      "source": [
        "# Построим матрицу корреляции между признаками\n",
        "correlation_matrix = data2.corr()\n",
        "\n",
        "# Визуализируем матрицу корреляции с помощью тепловой карты\n",
        "plt.figure(figsize=(50, 10))\n",
        "sns.heatmap(correlation_matrix, annot=True, cmap='coolwarm', fmt='.2f', linewidths=10.5)\n",
        "plt.title('Матрица корреляции')\n",
        "plt.show()"
      ],
      "metadata": {
        "colab": {
          "base_uri": "https://localhost:8080/",
          "height": 446
        },
        "id": "PYHmW-2roZB1",
        "outputId": "d9cb1f79-21fb-4437-8f34-fe03bbcdb051"
      },
      "execution_count": null,
      "outputs": [
        {
          "output_type": "display_data",
          "data": {
            "text/plain": [
              "<Figure size 5000x1000 with 2 Axes>"
            ],
            "image/png": "[encoded data removed]"
          },
          "metadata": {}
        }
      ]
    },
    {
      "cell_type": "markdown",
      "source": [
        "##--boxplot"
      ],
      "metadata": {
        "id": "LFpk2McBxFmA"
      }
    },
    {
      "cell_type": "code",
      "source": [
        "import seaborn as sns\n",
        "import warnings"
      ],
      "metadata": {
        "id": "CP4qkX17nPfJ"
      },
      "execution_count": null,
      "outputs": []
    },
    {
      "cell_type": "markdown",
      "source": [
        "массивы с признаками для большей комфортности построения графиков:"
      ],
      "metadata": {
        "id": "WH8hzBO1m4hB"
      }
    },
    {
      "cell_type": "code",
      "source": [
        "features = ['rko_start_months', 'max_end_fact_fin_deals', 'max_end_plan_non_fin_deals',\n",
        "            'max_start_fin_deals', 'max_start_non_fin_deals',   'min_end_fact_fin_deals',\n",
        "            'min_end_plan_non_fin_deals', 'min_start_fin_deals', 'min_start_non_fin_deals']"
      ],
      "metadata": {
        "id": "qLKK1uiP0oYv"
      },
      "execution_count": null,
      "outputs": []
    },
    {
      "cell_type": "code",
      "source": [
        "features_2 = ['balance_amt_avg', 'balance_amt_max', 'balance_amt_min', 'balance_amt_day_avg', 'channel_code']"
      ],
      "metadata": {
        "id": "DKzsespO4uaQ"
      },
      "execution_count": null,
      "outputs": []
    },
    {
      "cell_type": "code",
      "source": [
        "features_3 = ['city', 'city_type', 'index_city_code', 'ogrn_days_end_month', 'ogrn_days_end_quarter', 'ogrn_month', 'ogrn_year', 'branch_code']"
      ],
      "metadata": {
        "id": "lBwvNc1e5F4U"
      },
      "execution_count": null,
      "outputs": []
    },
    {
      "cell_type": "code",
      "source": [
        "features_4 = ['ft_registration_date', 'max_founderpres', 'min_founderpres', 'ogrn_exist_months', 'okved', 'segment', 'sum_of_paym_2m', 'sum_of_paym_6m', 'sum_of_paym_1y']"
      ],
      "metadata": {
        "id": "ERf4tpIT514D"
      },
      "execution_count": null,
      "outputs": []
    },
    {
      "cell_type": "code",
      "source": [
        "features_5 = ['sum_a_oper_1m', 'cnt_a_oper_1m', 'sum_b_oper_1m', 'cnt_b_oper_1m', 'sum_c_oper_1m', 'cnt_c_oper_1m', 'sum_deb_d_oper_1m',\n",
        "              'cnt_deb_d_oper_1m', 'sum_cred_d_oper_1m', 'cnt_cred_d_oper_1m', 'sum_deb_e_oper_1m', 'cnt_deb_e_oper_1m']"
      ],
      "metadata": {
        "id": "6JiQoe5z6qNE"
      },
      "execution_count": null,
      "outputs": []
    },
    {
      "cell_type": "markdown",
      "source": [
        "Строим boxplot для конкретного признака и target_2:"
      ],
      "metadata": {
        "id": "EwdDzp4ZnHNQ"
      }
    },
    {
      "cell_type": "code",
      "source": [
        "sns.boxplot(x='target_2', y=features_4[5], data=data)"
      ],
      "metadata": {
        "colab": {
          "base_uri": "https://localhost:8080/",
          "height": 466
        },
        "id": "xvpvv62f4afA",
        "outputId": "1127a29f-2a54-4ba4-e250-6bfcf1fd29a5"
      },
      "execution_count": null,
      "outputs": [
        {
          "output_type": "execute_result",
          "data": {
            "text/plain": [
              "<Axes: xlabel='target_2', ylabel='segment'>"
            ]
          },
          "metadata": {},
          "execution_count": 11
        },
        {
          "output_type": "display_data",
          "data": {
            "text/plain": [
              "<Figure size 640x480 with 1 Axes>"
            ],
            "image/png": "[encoded data removed]"
          },
          "metadata": {}
        }
      ]
    },
    {
      "cell_type": "code",
      "source": [
        "sns.boxplot(x='target_1', y=features[1], data=data)"
      ],
      "metadata": {
        "colab": {
          "base_uri": "https://localhost:8080/",
          "height": 466
        },
        "id": "SghHUZoH7xA7",
        "outputId": "89f818af-4467-4314-b61e-27b038efc1da"
      },
      "execution_count": null,
      "outputs": [
        {
          "output_type": "execute_result",
          "data": {
            "text/plain": [
              "<Axes: xlabel='target_1', ylabel='max_end_fact_fin_deals'>"
            ]
          },
          "metadata": {},
          "execution_count": 77
        },
        {
          "output_type": "display_data",
          "data": {
            "text/plain": [
              "<Figure size 640x480 with 1 Axes>"
            ],
            "image/png": "[encoded data removed]"
          },
          "metadata": {}
        }
      ]
    },
    {
      "cell_type": "markdown",
      "source": [
        "#Обучение модели"
      ],
      "metadata": {
        "id": "DCt1vToA6d5X"
      }
    },
    {
      "cell_type": "markdown",
      "source": [
        "## подготовка данных, загрузка библиотек"
      ],
      "metadata": {
        "id": "AnEpLUDXXCOQ"
      }
    },
    {
      "cell_type": "code",
      "source": [
        "from sklearn.model_selection import train_test_split\n",
        "\n",
        "y = data['target_1'].copy()\n",
        "\n",
        "X = data.drop(['id','target_1','target_2','total_target']+cols_for_del_t1, axis=1)\n",
        "\n",
        "X_train, X_test, y_train, y_test = train_test_split(X, y, train_size=0.8, random_state=rand_st)"
      ],
      "metadata": {
        "id": "2viJ32Kont7b"
      },
      "execution_count": 20,
      "outputs": []
    },
    {
      "cell_type": "code",
      "source": [
        "from sklearn.metrics import roc_auc_score"
      ],
      "metadata": {
        "id": "dsOu9d9g9TKg"
      },
      "execution_count": 9,
      "outputs": []
    },
    {
      "cell_type": "markdown",
      "source": [
        "##-- LGBMClassifier"
      ],
      "metadata": {
        "id": "CwaDKwHvWid5"
      }
    },
    {
      "cell_type": "code",
      "source": [
        "from lightgbm import LGBMClassifier"
      ],
      "metadata": {
        "id": "M0ffRz3_l_zx"
      },
      "execution_count": 10,
      "outputs": []
    },
    {
      "cell_type": "code",
      "source": [
        "model_t1 = LGBMClassifier(verbosity=-1, random_state=rand_st, max_depth=7, n_estimators=300, reg_alpha=8, reg_lambda=4, subsample_for_bin=200000, n_jobs=5) #дает 0.926979205864384 на ROC-AUC"
      ],
      "metadata": {
        "id": "qcF5sHc6Jzse"
      },
      "execution_count": 21,
      "outputs": []
    },
    {
      "cell_type": "code",
      "source": [
        "#model = LGBMClassifier(verbosity=-1, random_state=rand_st) #первая попытка настроить модель, дает 0.9259780630845078 на ROC-AUC, позже решили добавить больше параметров для улучшения\n",
        "model_t1.fit(X_train, y_train)"
      ],
      "metadata": {
        "colab": {
          "base_uri": "https://localhost:8080/",
          "height": 92
        },
        "id": "T3QvQK3omEFN",
        "outputId": "51010e45-1530-4737-9e28-22c358c624e9"
      },
      "execution_count": 22,
      "outputs": [
        {
          "output_type": "execute_result",
          "data": {
            "text/plain": [
              "LGBMClassifier(max_depth=7, n_estimators=300, n_jobs=5, random_state=12,\n",
              "               reg_alpha=8, reg_lambda=4, verbosity=-1)"
            ],
            "text/html": [
              "<style>#sk-container-id-3 {color: black;background-color: white;}#sk-container-id-3 pre{padding: 0;}#sk-container-id-3 div.sk-toggleable {background-color: white;}#sk-container-id-3 label.sk-toggleable__label {cursor: pointer;display: block;width: 100%;margin-bottom: 0;padding: 0.3em;box-sizing: border-box;text-align: center;}#sk-container-id-3 label.sk-toggleable__label-arrow:before {content: \"▸\";float: left;margin-right: 0.25em;color: #696969;}#sk-container-id-3 label.sk-toggleable__label-arrow:hover:before {color: black;}#sk-container-id-3 div.sk-estimator:hover label.sk-toggleable__label-arrow:before {color: black;}#sk-container-id-3 div.sk-toggleable__content {max-height: 0;max-width: 0;overflow: hidden;text-align: left;background-color: #f0f8ff;}#sk-container-id-3 div.sk-toggleable__content pre {margin: 0.2em;color: black;border-radius: 0.25em;background-color: #f0f8ff;}#sk-container-id-3 input.sk-toggleable__control:checked~div.sk-toggleable__content {max-height: 200px;max-width: 100%;overflow: auto;}#sk-container-id-3 input.sk-toggleable__control:checked~label.sk-toggleable__label-arrow:before {content: \"▾\";}#sk-container-id-3 div.sk-estimator input.sk-toggleable__control:checked~label.sk-toggleable__label {background-color: #d4ebff;}#sk-container-id-3 div.sk-label input.sk-toggleable__control:checked~label.sk-toggleable__label {background-color: #d4ebff;}#sk-container-id-3 input.sk-hidden--visually {border: 0;clip: rect(1px 1px 1px 1px);clip: rect(1px, 1px, 1px, 1px);height: 1px;margin: -1px;overflow: hidden;padding: 0;position: absolute;width: 1px;}#sk-container-id-3 div.sk-estimator {font-family: monospace;background-color: #f0f8ff;border: 1px dotted black;border-radius: 0.25em;box-sizing: border-box;margin-bottom: 0.5em;}#sk-container-id-3 div.sk-estimator:hover {background-color: #d4ebff;}#sk-container-id-3 div.sk-parallel-item::after {content: \"\";width: 100%;border-bottom: 1px solid gray;flex-grow: 1;}#sk-container-id-3 div.sk-label:hover label.sk-toggleable__label {background-color: #d4ebff;}#sk-container-id-3 div.sk-serial::before {content: \"\";position: absolute;border-left: 1px solid gray;box-sizing: border-box;top: 0;bottom: 0;left: 50%;z-index: 0;}#sk-container-id-3 div.sk-serial {display: flex;flex-direction: column;align-items: center;background-color: white;padding-right: 0.2em;padding-left: 0.2em;position: relative;}#sk-container-id-3 div.sk-item {position: relative;z-index: 1;}#sk-container-id-3 div.sk-parallel {display: flex;align-items: stretch;justify-content: center;background-color: white;position: relative;}#sk-container-id-3 div.sk-item::before, #sk-container-id-3 div.sk-parallel-item::before {content: \"\";position: absolute;border-left: 1px solid gray;box-sizing: border-box;top: 0;bottom: 0;left: 50%;z-index: -1;}#sk-container-id-3 div.sk-parallel-item {display: flex;flex-direction: column;z-index: 1;position: relative;background-color: white;}#sk-container-id-3 div.sk-parallel-item:first-child::after {align-self: flex-end;width: 50%;}#sk-container-id-3 div.sk-parallel-item:last-child::after {align-self: flex-start;width: 50%;}#sk-container-id-3 div.sk-parallel-item:only-child::after {width: 0;}#sk-container-id-3 div.sk-dashed-wrapped {border: 1px dashed gray;margin: 0 0.4em 0.5em 0.4em;box-sizing: border-box;padding-bottom: 0.4em;background-color: white;}#sk-container-id-3 div.sk-label label {font-family: monospace;font-weight: bold;display: inline-block;line-height: 1.2em;}#sk-container-id-3 div.sk-label-container {text-align: center;}#sk-container-id-3 div.sk-container {/* jupyter's `normalize.less` sets `[hidden] { display: none; }` but bootstrap.min.css set `[hidden] { display: none !important; }` so we also need the `!important` here to be able to override the default hidden behavior on the sphinx rendered scikit-learn.org. See: https://github.com/scikit-learn/scikit-learn/issues/21755 */display: inline-block !important;position: relative;}#sk-container-id-3 div.sk-text-repr-fallback {display: none;}</style><div id=\"sk-container-id-3\" class=\"sk-top-container\"><div class=\"sk-text-repr-fallback\"><pre>LGBMClassifier(max_depth=7, n_estimators=300, n_jobs=5, random_state=12,\n",
              "               reg_alpha=8, reg_lambda=4, verbosity=-1)</pre><b>In a Jupyter environment, please rerun this cell to show the HTML representation or trust the notebook. <br />On GitHub, the HTML representation is unable to render, please try loading this page with nbviewer.org.</b></div><div class=\"sk-container\" hidden><div class=\"sk-item\"><div class=\"sk-estimator sk-toggleable\"><input class=\"sk-toggleable__control sk-hidden--visually\" id=\"sk-estimator-id-3\" type=\"checkbox\" checked><label for=\"sk-estimator-id-3\" class=\"sk-toggleable__label sk-toggleable__label-arrow\">LGBMClassifier</label><div class=\"sk-toggleable__content\"><pre>LGBMClassifier(max_depth=7, n_estimators=300, n_jobs=5, random_state=12,\n",
              "               reg_alpha=8, reg_lambda=4, verbosity=-1)</pre></div></div></div></div></div>"
            ]
          },
          "metadata": {},
          "execution_count": 22
        }
      ]
    },
    {
      "cell_type": "code",
      "source": [
        "y_pred = model_t1.predict_proba(X_test)[:, 1]\n",
        "roc_auc_score(y_test, y_pred)"
      ],
      "metadata": {
        "colab": {
          "base_uri": "https://localhost:8080/"
        },
        "outputId": "123f97b7-801e-4ab8-954f-b80f31e48d76",
        "id": "Sq3EUCbDo9LO"
      },
      "execution_count": 23,
      "outputs": [
        {
          "output_type": "execute_result",
          "data": {
            "text/plain": [
              "0.926979205864384"
            ]
          },
          "metadata": {},
          "execution_count": 23
        }
      ]
    },
    {
      "cell_type": "code",
      "source": [
        "y_targets = pd.DataFrame()"
      ],
      "metadata": {
        "id": "BVCGP11dXQKq"
      },
      "execution_count": 24,
      "outputs": []
    },
    {
      "cell_type": "code",
      "source": [
        "y_targets['target_1'] = y_pred"
      ],
      "metadata": {
        "id": "WWL4ZIqDmpgG"
      },
      "execution_count": 25,
      "outputs": []
    },
    {
      "cell_type": "code",
      "source": [
        "y_t2 = data['target_2'].copy()\n",
        "\n",
        "X_t2 = data.drop(['id','target_1','target_2','total_target']+cols_for_del_t2, axis=1)\n",
        "\n",
        "X_train2, X_test2, y_train2, y_test2 = train_test_split(X_t2, y_t2, train_size=0.8, random_state=rand_st)"
      ],
      "metadata": {
        "id": "t4qdOggpZ3c6"
      },
      "execution_count": 26,
      "outputs": []
    },
    {
      "cell_type": "code",
      "source": [
        "model_t2 = LGBMClassifier(verbosity=-1, random_state=rand_st)\n",
        "model_t2.fit(X_train2, y_train2)"
      ],
      "metadata": {
        "colab": {
          "base_uri": "https://localhost:8080/",
          "height": 75
        },
        "id": "2dkzfTC7Ym05",
        "outputId": "21779ff7-8065-4e76-ab8c-148e6143f553"
      },
      "execution_count": 33,
      "outputs": [
        {
          "output_type": "execute_result",
          "data": {
            "text/plain": [
              "LGBMClassifier(random_state=12, verbosity=-1)"
            ],
            "text/html": [
              "<style>#sk-container-id-6 {color: black;background-color: white;}#sk-container-id-6 pre{padding: 0;}#sk-container-id-6 div.sk-toggleable {background-color: white;}#sk-container-id-6 label.sk-toggleable__label {cursor: pointer;display: block;width: 100%;margin-bottom: 0;padding: 0.3em;box-sizing: border-box;text-align: center;}#sk-container-id-6 label.sk-toggleable__label-arrow:before {content: \"▸\";float: left;margin-right: 0.25em;color: #696969;}#sk-container-id-6 label.sk-toggleable__label-arrow:hover:before {color: black;}#sk-container-id-6 div.sk-estimator:hover label.sk-toggleable__label-arrow:before {color: black;}#sk-container-id-6 div.sk-toggleable__content {max-height: 0;max-width: 0;overflow: hidden;text-align: left;background-color: #f0f8ff;}#sk-container-id-6 div.sk-toggleable__content pre {margin: 0.2em;color: black;border-radius: 0.25em;background-color: #f0f8ff;}#sk-container-id-6 input.sk-toggleable__control:checked~div.sk-toggleable__content {max-height: 200px;max-width: 100%;overflow: auto;}#sk-container-id-6 input.sk-toggleable__control:checked~label.sk-toggleable__label-arrow:before {content: \"▾\";}#sk-container-id-6 div.sk-estimator input.sk-toggleable__control:checked~label.sk-toggleable__label {background-color: #d4ebff;}#sk-container-id-6 div.sk-label input.sk-toggleable__control:checked~label.sk-toggleable__label {background-color: #d4ebff;}#sk-container-id-6 input.sk-hidden--visually {border: 0;clip: rect(1px 1px 1px 1px);clip: rect(1px, 1px, 1px, 1px);height: 1px;margin: -1px;overflow: hidden;padding: 0;position: absolute;width: 1px;}#sk-container-id-6 div.sk-estimator {font-family: monospace;background-color: #f0f8ff;border: 1px dotted black;border-radius: 0.25em;box-sizing: border-box;margin-bottom: 0.5em;}#sk-container-id-6 div.sk-estimator:hover {background-color: #d4ebff;}#sk-container-id-6 div.sk-parallel-item::after {content: \"\";width: 100%;border-bottom: 1px solid gray;flex-grow: 1;}#sk-container-id-6 div.sk-label:hover label.sk-toggleable__label {background-color: #d4ebff;}#sk-container-id-6 div.sk-serial::before {content: \"\";position: absolute;border-left: 1px solid gray;box-sizing: border-box;top: 0;bottom: 0;left: 50%;z-index: 0;}#sk-container-id-6 div.sk-serial {display: flex;flex-direction: column;align-items: center;background-color: white;padding-right: 0.2em;padding-left: 0.2em;position: relative;}#sk-container-id-6 div.sk-item {position: relative;z-index: 1;}#sk-container-id-6 div.sk-parallel {display: flex;align-items: stretch;justify-content: center;background-color: white;position: relative;}#sk-container-id-6 div.sk-item::before, #sk-container-id-6 div.sk-parallel-item::before {content: \"\";position: absolute;border-left: 1px solid gray;box-sizing: border-box;top: 0;bottom: 0;left: 50%;z-index: -1;}#sk-container-id-6 div.sk-parallel-item {display: flex;flex-direction: column;z-index: 1;position: relative;background-color: white;}#sk-container-id-6 div.sk-parallel-item:first-child::after {align-self: flex-end;width: 50%;}#sk-container-id-6 div.sk-parallel-item:last-child::after {align-self: flex-start;width: 50%;}#sk-container-id-6 div.sk-parallel-item:only-child::after {width: 0;}#sk-container-id-6 div.sk-dashed-wrapped {border: 1px dashed gray;margin: 0 0.4em 0.5em 0.4em;box-sizing: border-box;padding-bottom: 0.4em;background-color: white;}#sk-container-id-6 div.sk-label label {font-family: monospace;font-weight: bold;display: inline-block;line-height: 1.2em;}#sk-container-id-6 div.sk-label-container {text-align: center;}#sk-container-id-6 div.sk-container {/* jupyter's `normalize.less` sets `[hidden] { display: none; }` but bootstrap.min.css set `[hidden] { display: none !important; }` so we also need the `!important` here to be able to override the default hidden behavior on the sphinx rendered scikit-learn.org. See: https://github.com/scikit-learn/scikit-learn/issues/21755 */display: inline-block !important;position: relative;}#sk-container-id-6 div.sk-text-repr-fallback {display: none;}</style><div id=\"sk-container-id-6\" class=\"sk-top-container\"><div class=\"sk-text-repr-fallback\"><pre>LGBMClassifier(random_state=12, verbosity=-1)</pre><b>In a Jupyter environment, please rerun this cell to show the HTML representation or trust the notebook. <br />On GitHub, the HTML representation is unable to render, please try loading this page with nbviewer.org.</b></div><div class=\"sk-container\" hidden><div class=\"sk-item\"><div class=\"sk-estimator sk-toggleable\"><input class=\"sk-toggleable__control sk-hidden--visually\" id=\"sk-estimator-id-6\" type=\"checkbox\" checked><label for=\"sk-estimator-id-6\" class=\"sk-toggleable__label sk-toggleable__label-arrow\">LGBMClassifier</label><div class=\"sk-toggleable__content\"><pre>LGBMClassifier(random_state=12, verbosity=-1)</pre></div></div></div></div></div>"
            ]
          },
          "metadata": {},
          "execution_count": 33
        }
      ]
    },
    {
      "cell_type": "code",
      "source": [
        "y_pred2 = model_t2.predict_proba(X_test2)[:, 1]\n",
        "roc_auc_score(y_test2, y_pred2)"
      ],
      "metadata": {
        "colab": {
          "base_uri": "https://localhost:8080/"
        },
        "id": "1p6-McDDYfWc",
        "outputId": "abfbfc18-bb40-4e7f-9ec2-f10946d0a151"
      },
      "execution_count": 34,
      "outputs": [
        {
          "output_type": "execute_result",
          "data": {
            "text/plain": [
              "0.7704014002928301"
            ]
          },
          "metadata": {},
          "execution_count": 34
        }
      ]
    },
    {
      "cell_type": "code",
      "source": [
        "y_targets['target_2'] = y_pred2"
      ],
      "metadata": {
        "id": "hevHjL4JYtWM"
      },
      "execution_count": 35,
      "outputs": []
    },
    {
      "cell_type": "code",
      "source": [
        "def max_of(first, second):\n",
        "  if first > second:\n",
        "    return first\n",
        "  else:\n",
        "    return second"
      ],
      "metadata": {
        "id": "4nbf7cr7Xdsa"
      },
      "execution_count": 36,
      "outputs": []
    },
    {
      "cell_type": "code",
      "source": [
        "y3 = data['total_target'].copy()\n",
        "\n",
        "X3 = data.drop(['id','target_1','target_2','total_target'], axis=1)\n",
        "\n",
        "X_train3, X_test3, y_train3, y_test3 = train_test_split(X3, y3, train_size=0.8, random_state=rand_st)"
      ],
      "metadata": {
        "id": "QeN4PIS5cH3a"
      },
      "execution_count": 37,
      "outputs": []
    },
    {
      "cell_type": "code",
      "source": [
        "y_targets['total_target'] = y_targets.apply(lambda row: max_of(row['target_1'],row['target_2']),axis=1)"
      ],
      "metadata": {
        "id": "2pvjGthEXmcS"
      },
      "execution_count": 38,
      "outputs": []
    },
    {
      "cell_type": "code",
      "source": [
        "roc_auc_score(y_test3, y_targets['total_target'])"
      ],
      "metadata": {
        "colab": {
          "base_uri": "https://localhost:8080/"
        },
        "id": "IS7_oB1XX-YB",
        "outputId": "036d343c-ad82-4ca8-f168-3d0bb2250724"
      },
      "execution_count": 39,
      "outputs": [
        {
          "output_type": "execute_result",
          "data": {
            "text/plain": [
              "0.8826948011077262"
            ]
          },
          "metadata": {},
          "execution_count": 39
        }
      ]
    },
    {
      "cell_type": "markdown",
      "source": [
        "## Предсказание на тестовой выборке"
      ],
      "metadata": {
        "id": "OM1IifjY6WGp"
      }
    },
    {
      "cell_type": "code",
      "source": [
        "# Загрузка данных из гугл диска\n",
        "\n",
        "# test = pd.read_parquet('/content/gdrive/My Drive/Colab Notebooks/hackaton/dataset/test.parquet')"
      ],
      "metadata": {
        "id": "SBpnAxC2qAqS"
      },
      "execution_count": null,
      "outputs": []
    },
    {
      "cell_type": "code",
      "source": [
        "#если файлы загружать из локального пространства:\n",
        "test = pd.read_parquet('test.parquet')"
      ],
      "metadata": {
        "id": "h9Us8bQQ_NNS"
      },
      "execution_count": 40,
      "outputs": []
    },
    {
      "cell_type": "code",
      "source": [
        "test[cat_cols] = test[cat_cols].astype(\"category\")"
      ],
      "metadata": {
        "id": "RcciF6JL_q4S"
      },
      "execution_count": 41,
      "outputs": []
    },
    {
      "cell_type": "code",
      "source": [
        "y_pred = model_t1.predict_proba(test.drop(['id']+cols_for_del_t1,axis=1))[:,1]"
      ],
      "metadata": {
        "id": "hQsr2hOAMSsW"
      },
      "execution_count": 42,
      "outputs": []
    },
    {
      "cell_type": "code",
      "source": [
        "test[\"target_1\"] = y_pred"
      ],
      "metadata": {
        "id": "QRC4aN7XMjP_"
      },
      "execution_count": 43,
      "outputs": []
    },
    {
      "cell_type": "code",
      "source": [
        "y_pred2 = model_t2.predict_proba(test.drop(['id']+cols_for_del_t2+['target_1'],axis=1))[:,1]"
      ],
      "metadata": {
        "id": "z4EhgwLBdAVO"
      },
      "execution_count": 44,
      "outputs": []
    },
    {
      "cell_type": "code",
      "source": [
        "test[\"target_2\"] = y_pred2"
      ],
      "metadata": {
        "id": "b6F2GiB6UyIb"
      },
      "execution_count": 45,
      "outputs": []
    },
    {
      "cell_type": "code",
      "source": [
        "test[\"score\"] = test.apply(lambda row: max_of(row['target_1'],row['target_2']),axis=1)\n",
        "test"
      ],
      "metadata": {
        "id": "y-hqg4gEdZu0",
        "colab": {
          "base_uri": "https://localhost:8080/",
          "height": 444
        },
        "outputId": "0aa40969-0ccf-4c0f-9c7e-c3f6ca261a82"
      },
      "execution_count": 46,
      "outputs": [
        {
          "output_type": "execute_result",
          "data": {
            "text/plain": [
              "           id  rko_start_months  max_end_fact_fin_deals  \\\n",
              "0      300000         -1.076009                     NaN   \n",
              "1      300001         -0.335070                     NaN   \n",
              "2      300002          0.920834                     NaN   \n",
              "3      300003         -0.772897               -0.740714   \n",
              "4      300004         -0.665342                     NaN   \n",
              "...       ...               ...                     ...   \n",
              "99995  399995         -0.462181               -0.655619   \n",
              "99996  399996          1.162020                     NaN   \n",
              "99997  399997         -0.277489                     NaN   \n",
              "99998  399998         -0.743564                     NaN   \n",
              "99999  399999          3.129529                0.331478   \n",
              "\n",
              "       max_end_plan_non_fin_deals  max_start_fin_deals  \\\n",
              "0                             NaN                  NaN   \n",
              "1                             NaN                  NaN   \n",
              "2                             NaN                  NaN   \n",
              "3                             NaN            -0.635375   \n",
              "4                             NaN                  NaN   \n",
              "...                           ...                  ...   \n",
              "99995                         NaN            -0.615833   \n",
              "99996                         NaN                  NaN   \n",
              "99997                         NaN                  NaN   \n",
              "99998                         NaN                  NaN   \n",
              "99999                         NaN             0.042990   \n",
              "\n",
              "       max_start_non_fin_deals  min_end_fact_fin_deals  \\\n",
              "0                          NaN                     NaN   \n",
              "1                          NaN                     NaN   \n",
              "2                          NaN                     NaN   \n",
              "3                          NaN               -0.595302   \n",
              "4                          NaN                     NaN   \n",
              "...                        ...                     ...   \n",
              "99995                      NaN                0.252559   \n",
              "99996                      NaN                     NaN   \n",
              "99997                      NaN                     NaN   \n",
              "99998                      NaN                     NaN   \n",
              "99999                      NaN                1.231186   \n",
              "\n",
              "       min_end_plan_non_fin_deals  min_start_fin_deals  \\\n",
              "0                             NaN                  NaN   \n",
              "1                             NaN                  NaN   \n",
              "2                             NaN                  NaN   \n",
              "3                             NaN            -0.738424   \n",
              "4                             NaN                  NaN   \n",
              "...                           ...                  ...   \n",
              "99995                         NaN            -0.269155   \n",
              "99996                         NaN                  NaN   \n",
              "99997                         NaN                  NaN   \n",
              "99998                         NaN                  NaN   \n",
              "99999                         NaN             0.408950   \n",
              "\n",
              "       min_start_non_fin_deals  ...  cnt_days_cred_g_oper_3m  \\\n",
              "0                          NaN  ...                -0.323487   \n",
              "1                          NaN  ...                -0.323487   \n",
              "2                          NaN  ...                -0.323487   \n",
              "3                          NaN  ...                -0.323487   \n",
              "4                          NaN  ...                -0.323487   \n",
              "...                        ...  ...                      ...   \n",
              "99995                      NaN  ...                -0.188287   \n",
              "99996                      NaN  ...                -0.188287   \n",
              "99997                      NaN  ...                -0.323487   \n",
              "99998                      NaN  ...                -0.323487   \n",
              "99999                      NaN  ...                -0.323487   \n",
              "\n",
              "       sum_deb_h_oper_3m  cnt_deb_h_oper_3m  cnt_days_deb_h_oper_3m  \\\n",
              "0              -0.169940          -0.316563               -0.639934   \n",
              "1              -0.169940          -0.316563               -0.639934   \n",
              "2              -0.169940          -0.316563               -0.639934   \n",
              "3              -0.137993          -0.277545               -0.381706   \n",
              "4              -0.139926          -0.277545               -0.381706   \n",
              "...                  ...                ...                     ...   \n",
              "99995           0.035977          -0.258035               -0.317149   \n",
              "99996          -0.169707          -0.258035               -0.446263   \n",
              "99997          -0.169940          -0.316563               -0.639934   \n",
              "99998          -0.169940          -0.316563               -0.639934   \n",
              "99999           0.450193          -0.277545               -0.446263   \n",
              "\n",
              "      sum_cred_h_oper_3m cnt_cred_h_oper_3m cnt_days_cred_h_oper_3m  target_1  \\\n",
              "0              -0.171600          -0.237763               -0.596108  0.239773   \n",
              "1              -0.171580          -0.222361               -0.517805  0.588462   \n",
              "2               0.020943          -0.160754               -0.204596  0.001277   \n",
              "3              -0.171600          -0.237763               -0.596108  0.002957   \n",
              "4              -0.158918          -0.222361               -0.517805  0.001362   \n",
              "...                  ...                ...                     ...       ...   \n",
              "99995          -0.060968          -0.068343                0.108614  0.005551   \n",
              "99996          -0.077180           0.024067                0.265219  0.005213   \n",
              "99997          -0.171600          -0.237763               -0.596108  0.008084   \n",
              "99998          -0.142708          -0.022138                0.421823  0.005990   \n",
              "99999           0.515140          -0.114549               -0.361201  0.003088   \n",
              "\n",
              "       target_2     score  \n",
              "0      0.116931  0.239773  \n",
              "1      0.072011  0.588462  \n",
              "2      0.009397  0.009397  \n",
              "3      0.008996  0.008996  \n",
              "4      0.008017  0.008017  \n",
              "...         ...       ...  \n",
              "99995  0.008324  0.008324  \n",
              "99996  0.010665  0.010665  \n",
              "99997  0.023262  0.023262  \n",
              "99998  0.034808  0.034808  \n",
              "99999  0.013541  0.013541  \n",
              "\n",
              "[100000 rows x 103 columns]"
            ],
            "text/html": [
              "\n",
              "  <div id=\"df-b0be8a72-9611-4f2d-af96-5768e4d4f46b\" class=\"colab-df-container\">\n",
              "    <div>\n",
              "<style scoped>\n",
              "    .dataframe tbody tr th:only-of-type {\n",
              "        vertical-align: middle;\n",
              "    }\n",
              "\n",
              "    .dataframe tbody tr th {\n",
              "        vertical-align: top;\n",
              "    }\n",
              "\n",
              "    .dataframe thead th {\n",
              "        text-align: right;\n",
              "    }\n",
              "</style>\n",
              "<table border=\"1\" class=\"dataframe\">\n",
              "  <thead>\n",
              "    <tr style=\"text-align: right;\">\n",
              "      <th></th>\n",
              "      <th>id</th>\n",
              "      <th>rko_start_months</th>\n",
              "      <th>max_end_fact_fin_deals</th>\n",
              "      <th>max_end_plan_non_fin_deals</th>\n",
              "      <th>max_start_fin_deals</th>\n",
              "      <th>max_start_non_fin_deals</th>\n",
              "      <th>min_end_fact_fin_deals</th>\n",
              "      <th>min_end_plan_non_fin_deals</th>\n",
              "      <th>min_start_fin_deals</th>\n",
              "      <th>min_start_non_fin_deals</th>\n",
              "      <th>...</th>\n",
              "      <th>cnt_days_cred_g_oper_3m</th>\n",
              "      <th>sum_deb_h_oper_3m</th>\n",
              "      <th>cnt_deb_h_oper_3m</th>\n",
              "      <th>cnt_days_deb_h_oper_3m</th>\n",
              "      <th>sum_cred_h_oper_3m</th>\n",
              "      <th>cnt_cred_h_oper_3m</th>\n",
              "      <th>cnt_days_cred_h_oper_3m</th>\n",
              "      <th>target_1</th>\n",
              "      <th>target_2</th>\n",
              "      <th>score</th>\n",
              "    </tr>\n",
              "  </thead>\n",
              "  <tbody>\n",
              "    <tr>\n",
              "      <th>0</th>\n",
              "      <td>300000</td>\n",
              "      <td>-1.076009</td>\n",
              "      <td>NaN</td>\n",
              "      <td>NaN</td>\n",
              "      <td>NaN</td>\n",
              "      <td>NaN</td>\n",
              "      <td>NaN</td>\n",
              "      <td>NaN</td>\n",
              "      <td>NaN</td>\n",
              "      <td>NaN</td>\n",
              "      <td>...</td>\n",
              "      <td>-0.323487</td>\n",
              "      <td>-0.169940</td>\n",
              "      <td>-0.316563</td>\n",
              "      <td>-0.639934</td>\n",
              "      <td>-0.171600</td>\n",
              "      <td>-0.237763</td>\n",
              "      <td>-0.596108</td>\n",
              "      <td>0.239773</td>\n",
              "      <td>0.116931</td>\n",
              "      <td>0.239773</td>\n",
              "    </tr>\n",
              "    <tr>\n",
              "      <th>1</th>\n",
              "      <td>300001</td>\n",
              "      <td>-0.335070</td>\n",
              "      <td>NaN</td>\n",
              "      <td>NaN</td>\n",
              "      <td>NaN</td>\n",
              "      <td>NaN</td>\n",
              "      <td>NaN</td>\n",
              "      <td>NaN</td>\n",
              "      <td>NaN</td>\n",
              "      <td>NaN</td>\n",
              "      <td>...</td>\n",
              "      <td>-0.323487</td>\n",
              "      <td>-0.169940</td>\n",
              "      <td>-0.316563</td>\n",
              "      <td>-0.639934</td>\n",
              "      <td>-0.171580</td>\n",
              "      <td>-0.222361</td>\n",
              "      <td>-0.517805</td>\n",
              "      <td>0.588462</td>\n",
              "      <td>0.072011</td>\n",
              "      <td>0.588462</td>\n",
              "    </tr>\n",
              "    <tr>\n",
              "      <th>2</th>\n",
              "      <td>300002</td>\n",
              "      <td>0.920834</td>\n",
              "      <td>NaN</td>\n",
              "      <td>NaN</td>\n",
              "      <td>NaN</td>\n",
              "      <td>NaN</td>\n",
              "      <td>NaN</td>\n",
              "      <td>NaN</td>\n",
              "      <td>NaN</td>\n",
              "      <td>NaN</td>\n",
              "      <td>...</td>\n",
              "      <td>-0.323487</td>\n",
              "      <td>-0.169940</td>\n",
              "      <td>-0.316563</td>\n",
              "      <td>-0.639934</td>\n",
              "      <td>0.020943</td>\n",
              "      <td>-0.160754</td>\n",
              "      <td>-0.204596</td>\n",
              "      <td>0.001277</td>\n",
              "      <td>0.009397</td>\n",
              "      <td>0.009397</td>\n",
              "    </tr>\n",
              "    <tr>\n",
              "      <th>3</th>\n",
              "      <td>300003</td>\n",
              "      <td>-0.772897</td>\n",
              "      <td>-0.740714</td>\n",
              "      <td>NaN</td>\n",
              "      <td>-0.635375</td>\n",
              "      <td>NaN</td>\n",
              "      <td>-0.595302</td>\n",
              "      <td>NaN</td>\n",
              "      <td>-0.738424</td>\n",
              "      <td>NaN</td>\n",
              "      <td>...</td>\n",
              "      <td>-0.323487</td>\n",
              "      <td>-0.137993</td>\n",
              "      <td>-0.277545</td>\n",
              "      <td>-0.381706</td>\n",
              "      <td>-0.171600</td>\n",
              "      <td>-0.237763</td>\n",
              "      <td>-0.596108</td>\n",
              "      <td>0.002957</td>\n",
              "      <td>0.008996</td>\n",
              "      <td>0.008996</td>\n",
              "    </tr>\n",
              "    <tr>\n",
              "      <th>4</th>\n",
              "      <td>300004</td>\n",
              "      <td>-0.665342</td>\n",
              "      <td>NaN</td>\n",
              "      <td>NaN</td>\n",
              "      <td>NaN</td>\n",
              "      <td>NaN</td>\n",
              "      <td>NaN</td>\n",
              "      <td>NaN</td>\n",
              "      <td>NaN</td>\n",
              "      <td>NaN</td>\n",
              "      <td>...</td>\n",
              "      <td>-0.323487</td>\n",
              "      <td>-0.139926</td>\n",
              "      <td>-0.277545</td>\n",
              "      <td>-0.381706</td>\n",
              "      <td>-0.158918</td>\n",
              "      <td>-0.222361</td>\n",
              "      <td>-0.517805</td>\n",
              "      <td>0.001362</td>\n",
              "      <td>0.008017</td>\n",
              "      <td>0.008017</td>\n",
              "    </tr>\n",
              "    <tr>\n",
              "      <th>...</th>\n",
              "      <td>...</td>\n",
              "      <td>...</td>\n",
              "      <td>...</td>\n",
              "      <td>...</td>\n",
              "      <td>...</td>\n",
              "      <td>...</td>\n",
              "      <td>...</td>\n",
              "      <td>...</td>\n",
              "      <td>...</td>\n",
              "      <td>...</td>\n",
              "      <td>...</td>\n",
              "      <td>...</td>\n",
              "      <td>...</td>\n",
              "      <td>...</td>\n",
              "      <td>...</td>\n",
              "      <td>...</td>\n",
              "      <td>...</td>\n",
              "      <td>...</td>\n",
              "      <td>...</td>\n",
              "      <td>...</td>\n",
              "      <td>...</td>\n",
              "    </tr>\n",
              "    <tr>\n",
              "      <th>99995</th>\n",
              "      <td>399995</td>\n",
              "      <td>-0.462181</td>\n",
              "      <td>-0.655619</td>\n",
              "      <td>NaN</td>\n",
              "      <td>-0.615833</td>\n",
              "      <td>NaN</td>\n",
              "      <td>0.252559</td>\n",
              "      <td>NaN</td>\n",
              "      <td>-0.269155</td>\n",
              "      <td>NaN</td>\n",
              "      <td>...</td>\n",
              "      <td>-0.188287</td>\n",
              "      <td>0.035977</td>\n",
              "      <td>-0.258035</td>\n",
              "      <td>-0.317149</td>\n",
              "      <td>-0.060968</td>\n",
              "      <td>-0.068343</td>\n",
              "      <td>0.108614</td>\n",
              "      <td>0.005551</td>\n",
              "      <td>0.008324</td>\n",
              "      <td>0.008324</td>\n",
              "    </tr>\n",
              "    <tr>\n",
              "      <th>99996</th>\n",
              "      <td>399996</td>\n",
              "      <td>1.162020</td>\n",
              "      <td>NaN</td>\n",
              "      <td>NaN</td>\n",
              "      <td>NaN</td>\n",
              "      <td>NaN</td>\n",
              "      <td>NaN</td>\n",
              "      <td>NaN</td>\n",
              "      <td>NaN</td>\n",
              "      <td>NaN</td>\n",
              "      <td>...</td>\n",
              "      <td>-0.188287</td>\n",
              "      <td>-0.169707</td>\n",
              "      <td>-0.258035</td>\n",
              "      <td>-0.446263</td>\n",
              "      <td>-0.077180</td>\n",
              "      <td>0.024067</td>\n",
              "      <td>0.265219</td>\n",
              "      <td>0.005213</td>\n",
              "      <td>0.010665</td>\n",
              "      <td>0.010665</td>\n",
              "    </tr>\n",
              "    <tr>\n",
              "      <th>99997</th>\n",
              "      <td>399997</td>\n",
              "      <td>-0.277489</td>\n",
              "      <td>NaN</td>\n",
              "      <td>NaN</td>\n",
              "      <td>NaN</td>\n",
              "      <td>NaN</td>\n",
              "      <td>NaN</td>\n",
              "      <td>NaN</td>\n",
              "      <td>NaN</td>\n",
              "      <td>NaN</td>\n",
              "      <td>...</td>\n",
              "      <td>-0.323487</td>\n",
              "      <td>-0.169940</td>\n",
              "      <td>-0.316563</td>\n",
              "      <td>-0.639934</td>\n",
              "      <td>-0.171600</td>\n",
              "      <td>-0.237763</td>\n",
              "      <td>-0.596108</td>\n",
              "      <td>0.008084</td>\n",
              "      <td>0.023262</td>\n",
              "      <td>0.023262</td>\n",
              "    </tr>\n",
              "    <tr>\n",
              "      <th>99998</th>\n",
              "      <td>399998</td>\n",
              "      <td>-0.743564</td>\n",
              "      <td>NaN</td>\n",
              "      <td>NaN</td>\n",
              "      <td>NaN</td>\n",
              "      <td>NaN</td>\n",
              "      <td>NaN</td>\n",
              "      <td>NaN</td>\n",
              "      <td>NaN</td>\n",
              "      <td>NaN</td>\n",
              "      <td>...</td>\n",
              "      <td>-0.323487</td>\n",
              "      <td>-0.169940</td>\n",
              "      <td>-0.316563</td>\n",
              "      <td>-0.639934</td>\n",
              "      <td>-0.142708</td>\n",
              "      <td>-0.022138</td>\n",
              "      <td>0.421823</td>\n",
              "      <td>0.005990</td>\n",
              "      <td>0.034808</td>\n",
              "      <td>0.034808</td>\n",
              "    </tr>\n",
              "    <tr>\n",
              "      <th>99999</th>\n",
              "      <td>399999</td>\n",
              "      <td>3.129529</td>\n",
              "      <td>0.331478</td>\n",
              "      <td>NaN</td>\n",
              "      <td>0.042990</td>\n",
              "      <td>NaN</td>\n",
              "      <td>1.231186</td>\n",
              "      <td>NaN</td>\n",
              "      <td>0.408950</td>\n",
              "      <td>NaN</td>\n",
              "      <td>...</td>\n",
              "      <td>-0.323487</td>\n",
              "      <td>0.450193</td>\n",
              "      <td>-0.277545</td>\n",
              "      <td>-0.446263</td>\n",
              "      <td>0.515140</td>\n",
              "      <td>-0.114549</td>\n",
              "      <td>-0.361201</td>\n",
              "      <td>0.003088</td>\n",
              "      <td>0.013541</td>\n",
              "      <td>0.013541</td>\n",
              "    </tr>\n",
              "  </tbody>\n",
              "</table>\n",
              "<p>100000 rows × 103 columns</p>\n",
              "</div>\n",
              "    <div class=\"colab-df-buttons\">\n",
              "\n",
              "  <div class=\"colab-df-container\">\n",
              "    <button class=\"colab-df-convert\" onclick=\"convertToInteractive('df-b0be8a72-9611-4f2d-af96-5768e4d4f46b')\"\n",
              "            title=\"Convert this dataframe to an interactive table.\"\n",
              "            style=\"display:none;\">\n",
              "\n",
              "  <svg xmlns=\"http://www.w3.org/2000/svg\" height=\"24px\" viewBox=\"0 -960 960 960\">\n",
              "    <path d=\"M120-120v-720h720v720H120Zm60-500h600v-160H180v160Zm220 220h160v-160H400v160Zm0 220h160v-160H400v160ZM180-400h160v-160H180v160Zm440 0h160v-160H620v160ZM180-180h160v-160H180v160Zm440 0h160v-160H620v160Z\"/>\n",
              "  </svg>\n",
              "    </button>\n",
              "\n",
              "  <style>\n",
              "    .colab-df-container {\n",
              "      display:flex;\n",
              "      gap: 12px;\n",
              "    }\n",
              "\n",
              "    .colab-df-convert {\n",
              "      background-color: #E8F0FE;\n",
              "      border: none;\n",
              "      border-radius: 50%;\n",
              "      cursor: pointer;\n",
              "      display: none;\n",
              "      fill: #1967D2;\n",
              "      height: 32px;\n",
              "      padding: 0 0 0 0;\n",
              "      width: 32px;\n",
              "    }\n",
              "\n",
              "    .colab-df-convert:hover {\n",
              "      background-color: #E2EBFA;\n",
              "      box-shadow: 0px 1px 2px rgba(60, 64, 67, 0.3), 0px 1px 3px 1px rgba(60, 64, 67, 0.15);\n",
              "      fill: #174EA6;\n",
              "    }\n",
              "\n",
              "    .colab-df-buttons div {\n",
              "      margin-bottom: 4px;\n",
              "    }\n",
              "\n",
              "    [theme=dark] .colab-df-convert {\n",
              "      background-color: #3B4455;\n",
              "      fill: #D2E3FC;\n",
              "    }\n",
              "\n",
              "    [theme=dark] .colab-df-convert:hover {\n",
              "      background-color: #434B5C;\n",
              "      box-shadow: 0px 1px 3px 1px rgba(0, 0, 0, 0.15);\n",
              "      filter: drop-shadow(0px 1px 2px rgba(0, 0, 0, 0.3));\n",
              "      fill: #FFFFFF;\n",
              "    }\n",
              "  </style>\n",
              "\n",
              "    <script>\n",
              "      const buttonEl =\n",
              "        document.querySelector('#df-b0be8a72-9611-4f2d-af96-5768e4d4f46b button.colab-df-convert');\n",
              "      buttonEl.style.display =\n",
              "        google.colab.kernel.accessAllowed ? 'block' : 'none';\n",
              "\n",
              "      async function convertToInteractive(key) {\n",
              "        const element = document.querySelector('#df-b0be8a72-9611-4f2d-af96-5768e4d4f46b');\n",
              "        const dataTable =\n",
              "          await google.colab.kernel.invokeFunction('convertToInteractive',\n",
              "                                                    [key], {});\n",
              "        if (!dataTable) return;\n",
              "\n",
              "        const docLinkHtml = 'Like what you see? Visit the ' +\n",
              "          '<a target=\"_blank\" href=https://colab.research.google.com/notebooks/data_table.ipynb>data table notebook</a>'\n",
              "          + ' to learn more about interactive tables.';\n",
              "        element.innerHTML = '';\n",
              "        dataTable['output_type'] = 'display_data';\n",
              "        await google.colab.output.renderOutput(dataTable, element);\n",
              "        const docLink = document.createElement('div');\n",
              "        docLink.innerHTML = docLinkHtml;\n",
              "        element.appendChild(docLink);\n",
              "      }\n",
              "    </script>\n",
              "  </div>\n",
              "\n",
              "\n",
              "<div id=\"df-77d919ed-5515-4c92-ad2d-72409fc0e12b\">\n",
              "  <button class=\"colab-df-quickchart\" onclick=\"quickchart('df-77d919ed-5515-4c92-ad2d-72409fc0e12b')\"\n",
              "            title=\"Suggest charts.\"\n",
              "            style=\"display:none;\">\n",
              "\n",
              "<svg xmlns=\"http://www.w3.org/2000/svg\" height=\"24px\"viewBox=\"0 0 24 24\"\n",
              "     width=\"24px\">\n",
              "    <g>\n",
              "        <path d=\"M19 3H5c-1.1 0-2 .9-2 2v14c0 1.1.9 2 2 2h14c1.1 0 2-.9 2-2V5c0-1.1-.9-2-2-2zM9 17H7v-7h2v7zm4 0h-2V7h2v10zm4 0h-2v-4h2v4z\"/>\n",
              "    </g>\n",
              "</svg>\n",
              "  </button>\n",
              "\n",
              "<style>\n",
              "  .colab-df-quickchart {\n",
              "      --bg-color: #E8F0FE;\n",
              "      --fill-color: #1967D2;\n",
              "      --hover-bg-color: #E2EBFA;\n",
              "      --hover-fill-color: #174EA6;\n",
              "      --disabled-fill-color: #AAA;\n",
              "      --disabled-bg-color: #DDD;\n",
              "  }\n",
              "\n",
              "  [theme=dark] .colab-df-quickchart {\n",
              "      --bg-color: #3B4455;\n",
              "      --fill-color: #D2E3FC;\n",
              "      --hover-bg-color: #434B5C;\n",
              "      --hover-fill-color: #FFFFFF;\n",
              "      --disabled-bg-color: #3B4455;\n",
              "      --disabled-fill-color: #666;\n",
              "  }\n",
              "\n",
              "  .colab-df-quickchart {\n",
              "    background-color: var(--bg-color);\n",
              "    border: none;\n",
              "    border-radius: 50%;\n",
              "    cursor: pointer;\n",
              "    display: none;\n",
              "    fill: var(--fill-color);\n",
              "    height: 32px;\n",
              "    padding: 0;\n",
              "    width: 32px;\n",
              "  }\n",
              "\n",
              "  .colab-df-quickchart:hover {\n",
              "    background-color: var(--hover-bg-color);\n",
              "    box-shadow: 0 1px 2px rgba(60, 64, 67, 0.3), 0 1px 3px 1px rgba(60, 64, 67, 0.15);\n",
              "    fill: var(--button-hover-fill-color);\n",
              "  }\n",
              "\n",
              "  .colab-df-quickchart-complete:disabled,\n",
              "  .colab-df-quickchart-complete:disabled:hover {\n",
              "    background-color: var(--disabled-bg-color);\n",
              "    fill: var(--disabled-fill-color);\n",
              "    box-shadow: none;\n",
              "  }\n",
              "\n",
              "  .colab-df-spinner {\n",
              "    border: 2px solid var(--fill-color);\n",
              "    border-color: transparent;\n",
              "    border-bottom-color: var(--fill-color);\n",
              "    animation:\n",
              "      spin 1s steps(1) infinite;\n",
              "  }\n",
              "\n",
              "  @keyframes spin {\n",
              "    0% {\n",
              "      border-color: transparent;\n",
              "      border-bottom-color: var(--fill-color);\n",
              "      border-left-color: var(--fill-color);\n",
              "    }\n",
              "    20% {\n",
              "      border-color: transparent;\n",
              "      border-left-color: var(--fill-color);\n",
              "      border-top-color: var(--fill-color);\n",
              "    }\n",
              "    30% {\n",
              "      border-color: transparent;\n",
              "      border-left-color: var(--fill-color);\n",
              "      border-top-color: var(--fill-color);\n",
              "      border-right-color: var(--fill-color);\n",
              "    }\n",
              "    40% {\n",
              "      border-color: transparent;\n",
              "      border-right-color: var(--fill-color);\n",
              "      border-top-color: var(--fill-color);\n",
              "    }\n",
              "    60% {\n",
              "      border-color: transparent;\n",
              "      border-right-color: var(--fill-color);\n",
              "    }\n",
              "    80% {\n",
              "      border-color: transparent;\n",
              "      border-right-color: var(--fill-color);\n",
              "      border-bottom-color: var(--fill-color);\n",
              "    }\n",
              "    90% {\n",
              "      border-color: transparent;\n",
              "      border-bottom-color: var(--fill-color);\n",
              "    }\n",
              "  }\n",
              "</style>\n",
              "\n",
              "  <script>\n",
              "    async function quickchart(key) {\n",
              "      const quickchartButtonEl =\n",
              "        document.querySelector('#' + key + ' button');\n",
              "      quickchartButtonEl.disabled = true;  // To prevent multiple clicks.\n",
              "      quickchartButtonEl.classList.add('colab-df-spinner');\n",
              "      try {\n",
              "        const charts = await google.colab.kernel.invokeFunction(\n",
              "            'suggestCharts', [key], {});\n",
              "      } catch (error) {\n",
              "        console.error('Error during call to suggestCharts:', error);\n",
              "      }\n",
              "      quickchartButtonEl.classList.remove('colab-df-spinner');\n",
              "      quickchartButtonEl.classList.add('colab-df-quickchart-complete');\n",
              "    }\n",
              "    (() => {\n",
              "      let quickchartButtonEl =\n",
              "        document.querySelector('#df-77d919ed-5515-4c92-ad2d-72409fc0e12b button');\n",
              "      quickchartButtonEl.style.display =\n",
              "        google.colab.kernel.accessAllowed ? 'block' : 'none';\n",
              "    })();\n",
              "  </script>\n",
              "</div>\n",
              "    </div>\n",
              "  </div>\n"
            ]
          },
          "metadata": {},
          "execution_count": 46
        }
      ]
    },
    {
      "cell_type": "markdown",
      "source": [
        "##Сохранение ответа"
      ],
      "metadata": {
        "id": "wOieWw1s5-a8"
      }
    },
    {
      "cell_type": "code",
      "source": [
        "submiss = pd.DataFrame()"
      ],
      "metadata": {
        "id": "t0IoVcxPHhYM"
      },
      "execution_count": 47,
      "outputs": []
    },
    {
      "cell_type": "code",
      "source": [
        "submiss['id'] = test['id'].copy()"
      ],
      "metadata": {
        "id": "rX0BACuGHk6i"
      },
      "execution_count": 48,
      "outputs": []
    },
    {
      "cell_type": "code",
      "source": [
        "submiss['score'] = test['score'].copy()"
      ],
      "metadata": {
        "id": "uY9F5pxlIe5N"
      },
      "execution_count": 49,
      "outputs": []
    },
    {
      "cell_type": "code",
      "source": [
        "# Сохранение данных на гугл диск\n",
        "#submiss.to_csv('/content/gdrive/My Drive/Colab Notebooks/hackaton/dataset/prediction_maxT12_881.csv',index=False)"
      ],
      "metadata": {
        "id": "pfAlU8aaZnIA"
      },
      "execution_count": null,
      "outputs": []
    },
    {
      "cell_type": "code",
      "source": [
        "#Сохранение файла локально\n",
        "submiss.to_csv('prediction_maxT12_881.csv',index=False)"
      ],
      "metadata": {
        "id": "sY8izAkVwhwt"
      },
      "execution_count": 50,
      "outputs": []
    }
  ]
}